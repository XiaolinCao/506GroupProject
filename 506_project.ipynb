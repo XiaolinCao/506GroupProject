{
 "cells": [
  {
   "cell_type": "code",
   "execution_count": 174,
   "metadata": {},
   "outputs": [],
   "source": [
    "import pandas as pd\n",
    "import os\n",
    "import numpy as np\n",
    "# read data and extract variables simultaneously\n",
    "xpt_files = [\"ALQ_I.XPT\", \"DEMO_I.XPT\", \"OCQ_I.XPT\", \"DIQ_I.XPT\", \n",
    "             \"DR1IFF_I.XPT\", \"SLQ_I.XPT\", \"DR1TOT_I.XPT\"]\n",
    "base = \"\"\n",
    "vars = [[\"SEQN\", \"ALQ130\"],\n",
    "        [\"SEQN\", \"RIAGENDR\", \"RIDAGEYR\"],\n",
    "        [\"SEQN\", \"OCQ260\"],\n",
    "        [\"SEQN\", \"DIQ010\"],\n",
    "        [\"SEQN\", \"DR1ISUGR\", \"DR1ITFAT\"],\n",
    "        [\"SEQN\", \"SLD012\"],\n",
    "        [\"SEQN\", \"DR1TSUGR\", \"DR1TTFAT\"]\n",
    "    ]\n",
    "\n",
    "# STORE files in a list\n",
    "da = []\n",
    "for idf, fn in enumerate(xpt_files):\n",
    "    df = pd.read_sas(os.path.join(base, fn))\n",
    "    df = df.loc[:, vars[idf]]\n",
    "    da.append(df)"
   ]
  },
  {
   "cell_type": "code",
   "execution_count": 175,
   "metadata": {},
   "outputs": [],
   "source": [
    "# label the datasets\n",
    "alcohol = da[0]\n",
    "demo = da[1]\n",
    "diabete = da[3]\n",
    "dietary = da[4]\n",
    "occupation = da[2]\n",
    "sleep = da[5]\n",
    "total_nutrient = da[6]"
   ]
  },
  {
   "cell_type": "code",
   "execution_count": 176,
   "metadata": {},
   "outputs": [],
   "source": [
    "# data cleaning - missing, re-categorize,\n",
    "\n",
    "# diebete\n",
    "for i in range(diabete.shape[0]):\n",
    "    if diabete.iloc[i][1] == 2.0:\n",
    "        diabete.iloc[i][1] = int(0)\n",
    "    elif diabete.iloc[i][1] == 1.0:\n",
    "        diabete.iloc[i][1] = int(diabete.iloc[i][1])\n",
    "    else:\n",
    "        diabete.iloc[i][1] = np.nan\n",
    "        \n",
    "# alcohol\n",
    "for j in range(alcohol.shape[0]):\n",
    "    if alcohol.iloc[j][1] in [777.0, 999.0]:\n",
    "        alcohol.iloc[j][1] == np.nan\n",
    "    \n",
    "# occupation\n",
    "for k in range(occupation.shape[0]):\n",
    "    if occupation.iloc[k][1] in [77.0, 99.0, 6.0]:\n",
    "        occupation.iloc[k][1] = np.nan\n",
    "    elif occupation.iloc[k][1] in [2.0, 3.0, 4.0]:\n",
    "        occupation.iloc[k][1] = 2.0\n",
    "    elif occupation.iloc[k][1] == 5.0:\n",
    "        occupation.iloc[k][1] = 3.0\n",
    "\n",
    "# dietary\n",
    "dietary = dietary.groupby('SEQN').sum()\n",
    "dietary.columns = [\"Tot_sugar\", \"Tot_fat\"]\n",
    "dietary = dietary.reset_index()"
   ]
  },
  {
   "cell_type": "code",
   "execution_count": 177,
   "metadata": {},
   "outputs": [],
   "source": [
    "# merge tables\n",
    "table = pd.merge(left=alcohol,right=demo, left_on='SEQN', right_on='SEQN')\n",
    "table = pd.merge(left=table,right=diabete, left_on='SEQN', right_on='SEQN')\n",
    "table = pd.merge(left=table,right=dietary, left_on='SEQN', right_on='SEQN')\n",
    "table = pd.merge(left=table,right=occupation, left_on='SEQN', right_on='SEQN')\n",
    "table = pd.merge(left=table,right=sleep, left_on='SEQN', right_on='SEQN')\n",
    "table = table.dropna()\n",
    "# 2087 rows left after removing nan"
   ]
  },
  {
   "cell_type": "code",
   "execution_count": 178,
   "metadata": {},
   "outputs": [
    {
     "data": {
      "text/html": [
       "<div>\n",
       "<style scoped>\n",
       "    .dataframe tbody tr th:only-of-type {\n",
       "        vertical-align: middle;\n",
       "    }\n",
       "\n",
       "    .dataframe tbody tr th {\n",
       "        vertical-align: top;\n",
       "    }\n",
       "\n",
       "    .dataframe thead th {\n",
       "        text-align: right;\n",
       "    }\n",
       "</style>\n",
       "<table border=\"1\" class=\"dataframe\">\n",
       "  <thead>\n",
       "    <tr style=\"text-align: right;\">\n",
       "      <th>RIAGENDR</th>\n",
       "      <th>1.0</th>\n",
       "      <th>2.0</th>\n",
       "    </tr>\n",
       "    <tr>\n",
       "      <th>DIQ010</th>\n",
       "      <th></th>\n",
       "      <th></th>\n",
       "    </tr>\n",
       "  </thead>\n",
       "  <tbody>\n",
       "    <tr>\n",
       "      <th>0.0</th>\n",
       "      <td>1011</td>\n",
       "      <td>824</td>\n",
       "    </tr>\n",
       "    <tr>\n",
       "      <th>1.0</th>\n",
       "      <td>108</td>\n",
       "      <td>74</td>\n",
       "    </tr>\n",
       "  </tbody>\n",
       "</table>\n",
       "</div>"
      ],
      "text/plain": [
       "RIAGENDR   1.0  2.0\n",
       "DIQ010             \n",
       "0.0       1011  824\n",
       "1.0        108   74"
      ]
     },
     "execution_count": 178,
     "metadata": {},
     "output_type": "execute_result"
    }
   ],
   "source": [
    "# contingency table - gender\n",
    "pd.crosstab(table[\"DIQ010\"], table[\"RIAGENDR\"])"
   ]
  },
  {
   "cell_type": "code",
   "execution_count": 179,
   "metadata": {},
   "outputs": [
    {
     "data": {
      "text/html": [
       "<div>\n",
       "<style scoped>\n",
       "    .dataframe tbody tr th:only-of-type {\n",
       "        vertical-align: middle;\n",
       "    }\n",
       "\n",
       "    .dataframe tbody tr th {\n",
       "        vertical-align: top;\n",
       "    }\n",
       "\n",
       "    .dataframe thead th {\n",
       "        text-align: right;\n",
       "    }\n",
       "</style>\n",
       "<table border=\"1\" class=\"dataframe\">\n",
       "  <thead>\n",
       "    <tr style=\"text-align: right;\">\n",
       "      <th>OCQ260</th>\n",
       "      <th>1.0</th>\n",
       "      <th>2.0</th>\n",
       "      <th>3.0</th>\n",
       "    </tr>\n",
       "    <tr>\n",
       "      <th>DIQ010</th>\n",
       "      <th></th>\n",
       "      <th></th>\n",
       "      <th></th>\n",
       "    </tr>\n",
       "  </thead>\n",
       "  <tbody>\n",
       "    <tr>\n",
       "      <th>0.0</th>\n",
       "      <td>1380</td>\n",
       "      <td>268</td>\n",
       "      <td>187</td>\n",
       "    </tr>\n",
       "    <tr>\n",
       "      <th>1.0</th>\n",
       "      <td>122</td>\n",
       "      <td>30</td>\n",
       "      <td>30</td>\n",
       "    </tr>\n",
       "  </tbody>\n",
       "</table>\n",
       "</div>"
      ],
      "text/plain": [
       "OCQ260   1.0  2.0  3.0\n",
       "DIQ010                \n",
       "0.0     1380  268  187\n",
       "1.0      122   30   30"
      ]
     },
     "execution_count": 179,
     "metadata": {},
     "output_type": "execute_result"
    }
   ],
   "source": [
    "# contingency table - occupation\n",
    "pd.crosstab(table[\"DIQ010\"], table[\"OCQ260\"])"
   ]
  },
  {
   "cell_type": "code",
   "execution_count": 180,
   "metadata": {},
   "outputs": [],
   "source": [
    "# Change numeric to dummy\n",
    "# handle multi-level categorical variable - OCQ260\n",
    "occ = pd.get_dummies(table['OCQ260'], prefix='OCQ260')\n",
    "gender = pd.get_dummies(table['RIAGENDR'], prefix='RIAGENDR')\n",
    "occ.columns = ['business', 'government', 'self-employee']\n",
    "gender.columns = ['male','female']\n",
    "cols_to_keep = ['ALQ130', \"RIDAGEYR\",\"SLD012\", \"Tot_sugar\", \"Tot_fat\"]\n",
    "\n",
    "df_temp = table[cols_to_keep].join(occ.loc[: , 'government' : ])\n",
    "df_temp = df_temp.join(gender['female'])"
   ]
  },
  {
   "cell_type": "code",
   "execution_count": 181,
   "metadata": {},
   "outputs": [],
   "source": [
    "X = df_temp.iloc[:,:]\n",
    "# add intercept manually\n",
    "X['intercept'] = 1.0\n",
    "y = table['DIQ010']"
   ]
  },
  {
   "cell_type": "code",
   "execution_count": 182,
   "metadata": {},
   "outputs": [
    {
     "name": "stdout",
     "output_type": "stream",
     "text": [
      "Optimization terminated successfully.\n",
      "         Current function value: 0.271103\n",
      "         Iterations 7\n",
      "                           Logit Regression Results                           \n",
      "==============================================================================\n",
      "Dep. Variable:                 DIQ010   No. Observations:                 2017\n",
      "Model:                          Logit   Df Residuals:                     2008\n",
      "Method:                           MLE   Df Model:                            8\n",
      "Date:                Fri, 22 Nov 2019   Pseudo R-squ.:                  0.1055\n",
      "Time:                        22:20:57   Log-Likelihood:                -546.82\n",
      "converged:                       True   LL-Null:                       -611.31\n",
      "Covariance Type:            nonrobust   LLR p-value:                 4.602e-24\n",
      "=================================================================================\n",
      "                    coef    std err          z      P>|z|      [0.025      0.975]\n",
      "---------------------------------------------------------------------------------\n",
      "ALQ130           -0.0444      0.044     -0.999      0.318      -0.132       0.043\n",
      "RIDAGEYR          0.0574      0.006      9.294      0.000       0.045       0.069\n",
      "SLD012           -0.0472      0.065     -0.730      0.465      -0.174       0.079\n",
      "Tot_sugar        -0.0045      0.001     -3.133      0.002      -0.007      -0.002\n",
      "Tot_fat           0.0038      0.002      2.025      0.043       0.000       0.007\n",
      "government       -0.0207      0.225     -0.092      0.926      -0.462       0.420\n",
      "self-employee     0.0942      0.236      0.399      0.690      -0.368       0.557\n",
      "female           -0.1254      0.175     -0.715      0.475      -0.469       0.218\n",
      "intercept        -4.3287      0.644     -6.720      0.000      -5.591      -3.066\n",
      "=================================================================================\n"
     ]
    }
   ],
   "source": [
    "import statsmodels.api as sm\n",
    "logit_model=sm.Logit(y,X)\n",
    "result=logit_model.fit()\n",
    "print(result.summary())"
   ]
  }
 ],
 "metadata": {
  "kernelspec": {
   "display_name": "Python 3",
   "language": "python",
   "name": "python3"
  },
  "language_info": {
   "codemirror_mode": {
    "name": "ipython",
    "version": 3
   },
   "file_extension": ".py",
   "mimetype": "text/x-python",
   "name": "python",
   "nbconvert_exporter": "python",
   "pygments_lexer": "ipython3",
   "version": "3.6.4"
  }
 },
 "nbformat": 4,
 "nbformat_minor": 2
}
